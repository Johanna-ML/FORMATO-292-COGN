{
 "cells": [
  {
   "cell_type": "markdown",
   "id": "f123be22-bd8d-425d-ab0d-4d829db7474c",
   "metadata": {},
   "source": [
    "# Cargar librerias"
   ]
  },
  {
   "cell_type": "code",
   "execution_count": 1,
   "id": "032ef8ae-8bee-4e1f-a986-9a61ce2621a1",
   "metadata": {},
   "outputs": [],
   "source": [
    "import pandas as pd\n",
    "import numpy as np\n",
    "import openpyxl\n",
    "import os\n",
    "from openpyxl import Workbook\n",
    "from openpyxl.utils.dataframe import dataframe_to_rows\n",
    "from datetime import datetime, timedelta"
   ]
  },
  {
   "cell_type": "markdown",
   "id": "c1fe9fbf-ce22-4593-99c4-1d9ccf7fedf6",
   "metadata": {},
   "source": [
    "# Cargar bases de datos "
   ]
  },
  {
   "cell_type": "code",
   "execution_count": 2,
   "id": "3aed9547-6e83-43fe-9d3a-2f5e6e9469fc",
   "metadata": {},
   "outputs": [],
   "source": [
    "# Configuración de pandas para mostrar más dígitos en la salida\n",
    "pd.set_option('display.float_format', '{:.22f}'.format)"
   ]
  },
  {
   "cell_type": "code",
   "execution_count": 3,
   "id": "25a70232-1b01-4afa-89a1-4db4b3182a09",
   "metadata": {},
   "outputs": [
    {
     "name": "stdout",
     "output_type": "stream",
     "text": [
      "Directorio inicial: D:\\OneDrive - Allianz\\6_Procesos TRANSMISIONES\\FORMATOS 253-251\\Codigo\n",
      "Directorio después de moverse hacia arriba: D:\\OneDrive - Allianz\\6_Procesos TRANSMISIONES\\FORMATOS 253-251\n"
     ]
    }
   ],
   "source": [
    "# Imprime el directorio actual\n",
    "print(\"Directorio inicial:\", os.getcwd())\n",
    "\n",
    "# Cambiar al directorio \n",
    "os.chdir('..')\n",
    "\n",
    "# Confirma el cambio de directorio\n",
    "print(\"Directorio después de moverse hacia arriba:\", os.getcwd())"
   ]
  },
  {
   "cell_type": "markdown",
   "id": "dd94a52e-8a51-4355-b054-f56a30f1a9ee",
   "metadata": {},
   "source": [
    "# TXT"
   ]
  },
  {
   "cell_type": "code",
   "execution_count": 6,
   "id": "8af9787b-fdd5-4cbb-b16a-a633cc56f28c",
   "metadata": {},
   "outputs": [],
   "source": [
    "# Ruta a los archivos Excel\n",
    "archivo_251_path = r\"D:/OneDrive - Allianz/6_Procesos TRANSMISIONES/FORMATOS 253-251/Bases/Plantilla_251.xlsx\"\n",
    "archivo_253_path = r\"D:/OneDrive - Allianz/6_Procesos TRANSMISIONES/FORMATOS 253-251/Bases/Plantilla_253.xlsx\"\n",
    "\n",
    "# Definir los nombres de las columnas manualmente para el formato 251\n",
    "columnas_251 = ['SUBCUENTA', 'CONCEPTO', 'HOMBRES', 'MUJERES', 'HOMBRES_2', 'MUJERES_2', 'TOTAL', 'UNIDAD DE CAPTURA']\n",
    "\n",
    "# Cargar los datos de la plantilla 251\n",
    "Plantilla_251 = pd.read_excel(archivo_251_path, header=None, usecols=\"A:H\", nrows=15, names=columnas_251)\n",
    "\n",
    "# Definir las columnas clave para el formato 253\n",
    "columnas_253 = ['SUBCUENTA', 'CONCEPTO', 'VALOR', 'UNIDAD DE CAPTURA']\n",
    "\n",
    "# Cargar los datos de la plantilla 253\n",
    "Plantilla_253 = pd.read_excel(archivo_253_path, header=3, usecols=\"A:D\", names=columnas_253)\n",
    "\n",
    "# Definir las columnas clave\n",
    "columna_subcuenta = 'SUBCUENTA'\n",
    "columna_unidad_captura = 'UNIDAD DE CAPTURA'\n",
    "\n",
    "# Definimos la función para formatear las líneas\n",
    "def formatear_linea(numero_registro, codigo_formato, columna_idx, unidad_captura, subcuenta, signo, valor):\n",
    "    num_registro_str = str(numero_registro).zfill(5)\n",
    "    tipo_registro = \"4\"\n",
    "    codigo_formato_str = str(codigo_formato).zfill(3)\n",
    "    columna_str = str(columna_idx).zfill(2)\n",
    "    unidad_captura_str = str(int(float(unidad_captura))).zfill(2)\n",
    "    subcuenta_str = str(int(float(subcuenta))).zfill(3)\n",
    "    valor_str = f\"{int(valor):020d}\"  # Valor sin decimales, 20 caracteres con ceros a la izquierda\n",
    "    return f\"{num_registro_str}{tipo_registro}{codigo_formato_str}{columna_str}{unidad_captura_str}{subcuenta_str}{signo}{valor_str}\"\n",
    "\n",
    "# Obtener la fecha correcta (mes vencido)\n",
    "fecha_actual = datetime.now()\n",
    "fecha_mes_vencido = fecha_actual.replace(day=1) - timedelta(days=1)\n",
    "fecha_str = fecha_mes_vencido.strftime(\"%d%m%Y\")\n",
    "\n",
    "# Encabezados fijos de la primera y segunda línea\n",
    "registro_inicial_251 = f\"00001114000001{fecha_str}00045SVIDCOLSECS0128\"\n",
    "segunda_linea_251 = \"00002\" + \"2000001100000\"\n",
    "\n",
    "# Inicializar el número de registro y la lista para almacenar las líneas formateadas\n",
    "numero_registro = 3\n",
    "txt_datos = []\n",
    "\n",
    "# Incluir las líneas iniciales del formato 251\n",
    "txt_datos.append(registro_inicial_251)\n",
    "txt_datos.append(segunda_linea_251)\n",
    "\n",
    "# Procesar el formato 251, incluyendo valores en cero\n",
    "columnas_datos = ['HOMBRES', 'MUJERES', 'HOMBRES_2', 'MUJERES_2', 'TOTAL']\n",
    "for idx, columna in enumerate(columnas_datos, start=1):\n",
    "    for _, row in Plantilla_251.iterrows():\n",
    "        subcuenta = str(row[columna_subcuenta]).strip()\n",
    "        unidad_captura = str(row[columna_unidad_captura]).strip()\n",
    "        valor = row[columna]\n",
    "\n",
    "        # Saltar si el valor es NaN\n",
    "        if pd.isna(valor):\n",
    "            continue\n",
    "\n",
    "        # Determinar el signo del valor\n",
    "        try:\n",
    "            valor_float = float(valor)\n",
    "            signo = '+' if valor_float >= 0 else '-'\n",
    "            valor_abs = abs(valor_float)\n",
    "\n",
    "            # Formatear la línea específica para el Formato 251\n",
    "            linea = formatear_linea(numero_registro, 251, idx, unidad_captura, subcuenta, signo, valor_abs)\n",
    "            txt_datos.append(linea)\n",
    "            numero_registro += 1\n",
    "\n",
    "        except ValueError:\n",
    "            pass\n",
    "\n",
    "# Procesar el formato 253, incluyendo valores en cero\n",
    "for _, row in Plantilla_253.iterrows():\n",
    "    subcuenta = str(row['SUBCUENTA']).strip()\n",
    "    unidad_captura = str(row['UNIDAD DE CAPTURA']).strip()\n",
    "    valor = row['VALOR']\n",
    "\n",
    "    # Saltar si el valor es NaN\n",
    "    if pd.isna(valor):\n",
    "        continue\n",
    "\n",
    "    # Determinar el signo del valor\n",
    "    try:\n",
    "        valor_float = float(valor)\n",
    "        signo = '+' if valor_float >= 0 else '-'\n",
    "        valor_abs = abs(valor_float)\n",
    "\n",
    "        # Formatear la línea específica para el Formato 253\n",
    "        linea = formatear_linea(numero_registro, 253, 1, unidad_captura, subcuenta, signo, valor_abs)\n",
    "        txt_datos.append(linea)\n",
    "        numero_registro += 1\n",
    "\n",
    "    except ValueError:\n",
    "        pass\n",
    "\n",
    "# Agregar la última línea con el conteo de registros y un \"5\" al final\n",
    "total_registros = len(txt_datos) + 1\n",
    "linea_final = f\"{str(total_registros).zfill(5)}5\"\n",
    "txt_datos.append(linea_final)\n",
    "\n",
    "# Guardar el archivo TXT final unificado con los formatos 251 y 253\n",
    "output_path = \"4CUER.txt\"\n",
    "with open(output_path, \"w\") as f:\n",
    "    for linea in txt_datos:\n",
    "        f.write(f\"{linea}\\n\")\n"
   ]
  }
 ],
 "metadata": {
  "kernelspec": {
   "display_name": "Python 3 (ipykernel)",
   "language": "python",
   "name": "python3"
  },
  "language_info": {
   "codemirror_mode": {
    "name": "ipython",
    "version": 3
   },
   "file_extension": ".py",
   "mimetype": "text/x-python",
   "name": "python",
   "nbconvert_exporter": "python",
   "pygments_lexer": "ipython3",
   "version": "3.10.14"
  }
 },
 "nbformat": 4,
 "nbformat_minor": 5
}
