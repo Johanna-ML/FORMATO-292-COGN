{
 "cells": [
  {
   "cell_type": "markdown",
   "id": "e86fe71a-d4c6-43ea-a945-759838c8822f",
   "metadata": {},
   "source": [
    "# Cargar librerias"
   ]
  },
  {
   "cell_type": "code",
   "execution_count": 1,
   "id": "051efa8f-c6d6-4513-9f3f-62564d0a24df",
   "metadata": {},
   "outputs": [],
   "source": [
    "import pandas as pd\n",
    "import numpy as np\n",
    "import openpyxl\n",
    "import os\n",
    "from openpyxl import Workbook\n",
    "from openpyxl.utils.dataframe import dataframe_to_rows\n",
    "from datetime import datetime, timedelta"
   ]
  },
  {
   "cell_type": "markdown",
   "id": "06aa2697-45cf-450d-8d13-de05dc1f622d",
   "metadata": {},
   "source": [
    "# Cargar bases de datos "
   ]
  },
  {
   "cell_type": "code",
   "execution_count": 2,
   "id": "4a3c0f48-16f3-4640-b964-a4fd89e527c0",
   "metadata": {},
   "outputs": [],
   "source": [
    "# Configuración de pandas para mostrar más dígitos en la salida\n",
    "pd.set_option('display.float_format', '{:.22f}'.format)"
   ]
  },
  {
   "cell_type": "code",
   "execution_count": 3,
   "id": "b151df63-07ca-4a25-983c-cf76a672294b",
   "metadata": {},
   "outputs": [
    {
     "name": "stdout",
     "output_type": "stream",
     "text": [
      "Directorio inicial: D:\\OneDrive - Allianz\\6_Procesos TRANSMISIONES\\FORMATO 292_CAPITAL MINIMO\\Codigo\n",
      "Directorio después de moverse hacia arriba: D:\\OneDrive - Allianz\\6_Procesos TRANSMISIONES\\FORMATO 292_CAPITAL MINIMO\n"
     ]
    }
   ],
   "source": [
    "# Imprime el directorio actual\n",
    "print(\"Directorio inicial:\", os.getcwd())\n",
    "\n",
    "# Cambiar al directorio 'FORMATO_290'\n",
    "os.chdir('..')\n",
    "\n",
    "# Confirma el cambio de directorio\n",
    "print(\"Directorio después de moverse hacia arriba:\", os.getcwd())"
   ]
  },
  {
   "cell_type": "code",
   "execution_count": 4,
   "id": "ac9dfc03-9f91-4edc-a0fe-563f5a5224ac",
   "metadata": {},
   "outputs": [],
   "source": [
    "ruta = r\"D:\\OneDrive - Allianz\\6_Procesos TRANSMISIONES\\Fuentes de Información COVI.xlsx\""
   ]
  },
  {
   "cell_type": "code",
   "execution_count": 5,
   "id": "f5b00ac9-429a-4b86-9b72-e8eff4851b67",
   "metadata": {},
   "outputs": [],
   "source": [
    "BALANCE_WP = pd.read_excel(ruta,sheet_name=\"BALANCE_WP\",usecols=\"A:E\",skiprows=5,dtype=str)\n",
    "\n",
    "# Renombrar columnas para que coincidan con la estructura anterior\n",
    "BALANCE_WP.columns = [\"CUENTA\", \"NOMBRE\", \"VALOR\", \"VALOR2\", \"VALOR MONEDA EXTRANJERA\"]"
   ]
  },
  {
   "cell_type": "code",
   "execution_count": 6,
   "id": "299900e9-e089-4b1a-9848-5d3544662034",
   "metadata": {},
   "outputs": [],
   "source": [
    "# Cargamos el workbook y seleccionamos la hoja\n",
    "wb = openpyxl.load_workbook('Bases\\Plantilla_Capital_Minimo_COVI.xlsx')\n",
    "ws = wb['Hoja1']"
   ]
  },
  {
   "cell_type": "markdown",
   "id": "8d6f6c8c-f948-4d46-bdf5-ac985b9936bd",
   "metadata": {},
   "source": [
    "## CAPITAL MINIMO ACREDITADO UNIDAD DE CAPTURA 1"
   ]
  },
  {
   "cell_type": "code",
   "execution_count": 7,
   "id": "68ead05b-037e-43b0-851d-7c249001d642",
   "metadata": {},
   "outputs": [],
   "source": [
    "# Función para escribir valores en las celdas\n",
    "def escribir_valor_excel(fila, columna, valor):\n",
    "    ws.cell(row=fila, column=columna).value = valor if valor != 0 else 0\n",
    "\n",
    "# Cálculo de los valores de cada cuenta y escritura en Excel\n",
    "c_310500 = BALANCE_WP[(BALANCE_WP['CUENTA'] == \"310500\")].groupby(['CUENTA'])['VALOR'].sum().reset_index()\n",
    "d18 = float(c_310500['VALOR'].iloc[0]) if not c_310500.empty else 0\n",
    "escribir_valor_excel(18, 4, d18)  # Escribir en fila 18, columna 4\n",
    "\n",
    "c_311500 = BALANCE_WP[(BALANCE_WP['CUENTA'] == \"311500\")].groupby(['CUENTA'])['VALOR'].sum().reset_index()\n",
    "d19 = float(c_311500['VALOR'].iloc[0]) if not c_311500.empty else 0\n",
    "escribir_valor_excel(19, 4, d19)  # Escribir en fila 19, columna 4\n",
    "\n",
    "c_315500 = BALANCE_WP[(BALANCE_WP['CUENTA'] == \"315500\")].groupby(['CUENTA'])['VALOR'].sum().reset_index()\n",
    "d20 = float(c_315500['VALOR'].iloc[0]) if not c_315500.empty else 0\n",
    "escribir_valor_excel(20, 4, d20)  # Escribir en fila 20, columna 4\n",
    "\n",
    "c_320000 = BALANCE_WP[(BALANCE_WP['CUENTA'] == \"320000\")].groupby(['CUENTA'])['VALOR'].sum().reset_index()\n",
    "d21 = float(c_320000['VALOR'].iloc[0]) if not c_320000.empty else 0\n",
    "escribir_valor_excel(21, 4, d21)  # Escribir en fila 21, columna 4\n",
    "\n",
    "c_380500 = BALANCE_WP[(BALANCE_WP['CUENTA'] == \"380500\")].groupby(['CUENTA'])['VALOR'].sum().reset_index()\n",
    "d22 = float(c_380500['VALOR'].iloc[0]) if not c_380500.empty else 0\n",
    "escribir_valor_excel(22, 4, d22)  # Escribir en fila 22, columna 4\n",
    "\n",
    "c_390500 = BALANCE_WP[(BALANCE_WP['CUENTA'] == \"390500\")].groupby(['CUENTA'])['VALOR'].sum().reset_index()\n",
    "d23 = float(c_390500['VALOR'].iloc[0]) if not c_390500.empty else 0\n",
    "escribir_valor_excel(23, 4, d23)  # Escribir en fila 23, columna 4\n",
    "\n",
    "c_391000 = BALANCE_WP[(BALANCE_WP['CUENTA'] == \"391000\")].groupby(['CUENTA'])['VALOR'].sum().reset_index()\n",
    "d24 = float(c_391000['VALOR'].iloc[0]) if not c_391000.empty else 0\n",
    "escribir_valor_excel(24, 4, d24)  # Escribir en fila 24, columna 4\n",
    "\n",
    "c_392000 = BALANCE_WP[(BALANCE_WP['CUENTA'] == \"392000\")].groupby(['CUENTA'])['VALOR'].sum().reset_index()\n",
    "d25 = float(c_392000['VALOR'].iloc[0]) if not c_392000.empty else 0\n",
    "escribir_valor_excel(25, 4, d25)  # Escribir en fila 25, columna 4\n",
    "\n",
    "# Calcular el total d27_999 y escribir en la celda correspondiente\n",
    "d26_999 = (d18 + d19 + d20 + d21 + d22 + d23 - d24 - d25)\n",
    "\n",
    "# Escribir el total en fila 26, columna 4\n",
    "escribir_valor_excel(26, 4, d26_999)\n"
   ]
  },
  {
   "cell_type": "markdown",
   "id": "92defa55-c960-408e-b9db-3d52694c57ca",
   "metadata": {},
   "source": [
    "## CAPITAL MÍNIMO  DE FUNCIONAMIENTO REQUERIDO UNIDAD DE CAPTURA 2"
   ]
  },
  {
   "cell_type": "code",
   "execution_count": 8,
   "id": "88f82c4b-6a49-4864-bfd4-d98d24f77269",
   "metadata": {},
   "outputs": [],
   "source": [
    "# Obtener los valores de las celdas D30, D31, D32, D33 (column 4, rows 30 to 33)\n",
    "d29 = ws.cell(row=29, column=4).value or 0\n",
    "d30 = ws.cell(row=30, column=4).value or 0\n",
    "d31 = ws.cell(row=31, column=4).value or 0\n",
    "d32 = ws.cell(row=32, column=4).value or 0\n",
    "\n",
    "# Realizar la suma de los valores de D30 a D33\n",
    "d33 = d29 + d30 + d31 + d32\n",
    "\n",
    "# Escribir el resultado de la suma en la celda D34 (fila 34, columna 4)\n",
    "ws.cell(row=33, column=4).value = d33"
   ]
  },
  {
   "cell_type": "markdown",
   "id": "30d4d17a-06fa-4558-b376-a00b23ec35a7",
   "metadata": {},
   "source": [
    "## EXCESO O DEFECTO EN EL CAPITAL MINIMO REQUERIDO UNIDAD DE CAPTURA 3\n"
   ]
  },
  {
   "cell_type": "code",
   "execution_count": 9,
   "id": "173a9d6e-fe97-4e26-a634-8f9ff982f337",
   "metadata": {},
   "outputs": [],
   "source": [
    "d26 = ws.cell(row=26, column=4).value or 0  # Si la celda está vacía, asignar 0\n",
    "d33 = ws.cell(row=33, column=4).value or 0  # Si la celda está vacía, asignar 0\n",
    "\n",
    "# Realizar la operación D27 - D34\n",
    "d36 = d26 - d33\n",
    "\n",
    "# Escribir el resultado en la celda D36\n",
    "ws.cell(row=36, column=4).value = d36"
   ]
  },
  {
   "cell_type": "markdown",
   "id": "62b51f88-0529-4b60-9fa7-7b4db7952805",
   "metadata": {},
   "source": [
    "## RESULTADOS DEL EJERCICIO\tUNIDAD DE CAPTURA 4\t\t \t\t\t\n"
   ]
  },
  {
   "cell_type": "code",
   "execution_count": 10,
   "id": "8b279440-190f-4c64-8354-58d735d315c4",
   "metadata": {},
   "outputs": [],
   "source": [
    "c_391500 = BALANCE_WP[(BALANCE_WP['CUENTA'] == \"391500\")].groupby(['CUENTA'])['VALOR'].sum().reset_index()\n",
    "d39 = float(c_391500['VALOR'].iloc[0]) if not c_391500.empty else 0\n",
    "ws.cell(row=39, column=4).value = d39"
   ]
  },
  {
   "cell_type": "code",
   "execution_count": 11,
   "id": "fe47e831-6a1c-4e28-8b1a-7bdce6b1345c",
   "metadata": {},
   "outputs": [],
   "source": [
    "wb.save('Bases/Capital Minimo COVI.xlsx')\n",
    "wb.close()"
   ]
  },
  {
   "cell_type": "markdown",
   "id": "99e86b82-ebf8-4f7e-b168-417bdaf548d1",
   "metadata": {},
   "source": [
    "## PROFORMA TXT"
   ]
  },
  {
   "cell_type": "code",
   "execution_count": 12,
   "id": "2e6b6180-f591-447e-acfb-c56c116bf605",
   "metadata": {},
   "outputs": [],
   "source": [
    "# Cargar el archivo Excel\n",
    "excel_file = \"D:/OneDrive - Allianz/6_Procesos TRANSMISIONES/FORMATO 292_CAPITAL MINIMO/Bases/Capital Minimo COVI.xlsx\"\n",
    "df = pd.read_excel(excel_file, header=14)\n",
    "\n",
    "# Lista de subcuentas válidas\n",
    "subcuentas_validas = ['005', '010', '012', '015', '020', '035', '999', '032', '034']\n",
    "\n",
    "# Función para generar el consecutivo de la línea\n",
    "def generar_consecutivo(num):\n",
    "    return str(num).zfill(5)\n",
    "\n",
    "# Función para agregar el signo al valor y corregir el manejo de negativos\n",
    "def formatear_valor(valor):\n",
    "    try:\n",
    "        # Si el valor es NaN o no es convertible, tratarlo como 0\n",
    "        valor = float(valor) if pd.notna(valor) else 0\n",
    "    except ValueError:\n",
    "        # Si no se puede convertir, tratarlo como 0\n",
    "        valor = 0\n",
    "    \n",
    "    # Revisar si el valor es positivo o negativo\n",
    "    signo = '+' if valor >= 0 else '-'\n",
    "    valor_abs = abs(valor)\n",
    "    # Formatear el valor correctamente con el signo adecuado\n",
    "    valor_formateado = f\"{signo}{str(int(valor_abs)).zfill(20)}\"  # Convertir a entero para zfill\n",
    "    return valor_formateado\n",
    "\n",
    "# Inicializar la lista para almacenar las líneas\n",
    "lineas = []\n",
    "\n",
    "# Obtener la fecha correcta (mes vencido)\n",
    "fecha_actual = datetime.now()\n",
    "fecha_mes_vencido = fecha_actual.replace(day=1) - timedelta(days=1)\n",
    "fecha_str = fecha_mes_vencido.strftime(\"%d%m%Y\")  # Formato día-mes-año\n",
    "\n",
    "# Encabezados fijos de la primera y segunda línea\n",
    "registro_inicial = f\"00001114000001{fecha_str}00019SVIDCOLSECS0137\"\n",
    "segunda_linea = \"000022000001100000\"\n",
    "\n",
    "# Agregar las primeras dos líneas a la lista\n",
    "lineas.append(registro_inicial)\n",
    "lineas.append(segunda_linea)\n",
    "\n",
    "# Filtrar solo las filas que tienen subcuentas y unidades de captura válidas\n",
    "df_filtrado = df[df['SUBCUENTA'].isin(subcuentas_validas)]\n",
    "\n",
    "# Recorrer cada fila del DataFrame filtrado\n",
    "numero_registro = 2  # Iniciar en 2 porque las dos primeras líneas están fijas\n",
    "\n",
    "for index, row in df_filtrado.iterrows():\n",
    "    subcuenta = str(row['SUBCUENTA']).zfill(3)  # Subcuenta debe tener 3 caracteres\n",
    "    unidad_captura = str(int(row['UNIDAD DE CAPTURA'])).zfill(2)  # Unidad de captura debe tener 2 caracteres\n",
    "    valor = row['VALOR']  # Columna de valor\n",
    "    \n",
    "    # Generar la línea de acuerdo con el formato\n",
    "    linea = (\n",
    "        generar_consecutivo(numero_registro + 1) +  # Consecutivo\n",
    "        \"4\" +                               # Tipo de registro\n",
    "        \"292\" +                             # Número del formato\n",
    "        \"01\" +                              # Número de la columna (fijo en 01)\n",
    "        unidad_captura +                    # Unidad de captura\n",
    "        subcuenta +                         # Subcuenta\n",
    "        formatear_valor(valor)              # Valor formateado\n",
    "    )\n",
    "\n",
    "    # Agregar la línea a la lista\n",
    "    if linea not in lineas:  # Evitar duplicados\n",
    "        lineas.append(linea)\n",
    "\n",
    "    # Incrementar el consecutivo\n",
    "    numero_registro += 1\n",
    "\n",
    "# Agregar el consecutivo final dinámicamente basado en el número de registros\n",
    "# El consecutivo debe ser el total de registros + 1 y con un \"5\" al final.\n",
    "consecutivo_final = generar_consecutivo(numero_registro + 1) + \"5\"\n",
    "lineas.append(consecutivo_final)\n",
    "\n",
    "# Guardar las líneas en un archivo TXT\n",
    "\n",
    "with open(\"Capital Minimo COVI.txt\", \"w\") as f:\n",
    "    for i, linea in enumerate(lineas):\n",
    "        if i < len(lineas) - 1:\n",
    "            f.write(linea + \"\\n\")\n",
    "        else:\n",
    "            f.write(linea)\n"
   ]
  },
  {
   "cell_type": "code",
   "execution_count": null,
   "id": "a1c7eece-637f-4004-a8c7-2b8a30069666",
   "metadata": {},
   "outputs": [],
   "source": []
  }
 ],
 "metadata": {
  "kernelspec": {
   "display_name": "Python 3 (ipykernel)",
   "language": "python",
   "name": "python3"
  },
  "language_info": {
   "codemirror_mode": {
    "name": "ipython",
    "version": 3
   },
   "file_extension": ".py",
   "mimetype": "text/x-python",
   "name": "python",
   "nbconvert_exporter": "python",
   "pygments_lexer": "ipython3",
   "version": "3.10.14"
  }
 },
 "nbformat": 4,
 "nbformat_minor": 5
}
